{
 "cells": [
  {
   "cell_type": "markdown",
   "metadata": {},
   "source": [
    "# Import data"
   ]
  },
  {
   "cell_type": "code",
   "execution_count": 1,
   "metadata": {},
   "outputs": [],
   "source": [
    "import pandas as pd"
   ]
  },
  {
   "cell_type": "code",
   "execution_count": 2,
   "metadata": {},
   "outputs": [],
   "source": [
    "from statsmodels.stats.outliers_influence import variance_inflation_factor"
   ]
  },
  {
   "cell_type": "code",
   "execution_count": 3,
   "metadata": {},
   "outputs": [],
   "source": [
    "data = pd.read_csv(\"C:/Users/kyungmyung/Desktop/panel_example.csv\")"
   ]
  },
  {
   "cell_type": "code",
   "execution_count": 4,
   "metadata": {},
   "outputs": [
    {
     "data": {
      "text/html": [
       "<div>\n",
       "<style scoped>\n",
       "    .dataframe tbody tr th:only-of-type {\n",
       "        vertical-align: middle;\n",
       "    }\n",
       "\n",
       "    .dataframe tbody tr th {\n",
       "        vertical-align: top;\n",
       "    }\n",
       "\n",
       "    .dataframe thead th {\n",
       "        text-align: right;\n",
       "    }\n",
       "</style>\n",
       "<table border=\"1\" class=\"dataframe\">\n",
       "  <thead>\n",
       "    <tr style=\"text-align: right;\">\n",
       "      <th></th>\n",
       "      <th>gvkey</th>\n",
       "      <th>year</th>\n",
       "      <th>ticker</th>\n",
       "      <th>cn</th>\n",
       "      <th>age</th>\n",
       "      <th>currentasset</th>\n",
       "      <th>totalasset</th>\n",
       "      <th>commonequity</th>\n",
       "      <th>cogs</th>\n",
       "      <th>commonoutstanding</th>\n",
       "      <th>...</th>\n",
       "      <th>totalliabilities</th>\n",
       "      <th>netincome</th>\n",
       "      <th>sales</th>\n",
       "      <th>stockholdersequity</th>\n",
       "      <th>advertisement_expense</th>\n",
       "      <th>operatingexpense</th>\n",
       "      <th>researchanddevelopment</th>\n",
       "      <th>marketvalue</th>\n",
       "      <th>pid</th>\n",
       "      <th>ptime</th>\n",
       "    </tr>\n",
       "  </thead>\n",
       "  <tbody>\n",
       "    <tr>\n",
       "      <th>0</th>\n",
       "      <td>126554</td>\n",
       "      <td>1998</td>\n",
       "      <td>A</td>\n",
       "      <td>AGILENT TECHNOLOGIES INC</td>\n",
       "      <td>0</td>\n",
       "      <td>3075.0</td>\n",
       "      <td>4987.0</td>\n",
       "      <td>3022.0</td>\n",
       "      <td>3919.0</td>\n",
       "      <td>0.00000</td>\n",
       "      <td>...</td>\n",
       "      <td>1965.0</td>\n",
       "      <td>257.0</td>\n",
       "      <td>7952.0</td>\n",
       "      <td>3022.0</td>\n",
       "      <td>94.0</td>\n",
       "      <td>6917.0</td>\n",
       "      <td>948.0</td>\n",
       "      <td>0.000</td>\n",
       "      <td>1</td>\n",
       "      <td>11</td>\n",
       "    </tr>\n",
       "    <tr>\n",
       "      <th>1</th>\n",
       "      <td>126554</td>\n",
       "      <td>1999</td>\n",
       "      <td>A</td>\n",
       "      <td>AGILENT TECHNOLOGIES INC</td>\n",
       "      <td>1</td>\n",
       "      <td>3538.0</td>\n",
       "      <td>5444.0</td>\n",
       "      <td>3382.0</td>\n",
       "      <td>3862.0</td>\n",
       "      <td>380.00000</td>\n",
       "      <td>...</td>\n",
       "      <td>2062.0</td>\n",
       "      <td>512.0</td>\n",
       "      <td>8331.0</td>\n",
       "      <td>3382.0</td>\n",
       "      <td>130.0</td>\n",
       "      <td>7064.0</td>\n",
       "      <td>997.0</td>\n",
       "      <td>0.000</td>\n",
       "      <td>1</td>\n",
       "      <td>12</td>\n",
       "    </tr>\n",
       "    <tr>\n",
       "      <th>2</th>\n",
       "      <td>126554</td>\n",
       "      <td>2000</td>\n",
       "      <td>A</td>\n",
       "      <td>AGILENT TECHNOLOGIES INC</td>\n",
       "      <td>2</td>\n",
       "      <td>5655.0</td>\n",
       "      <td>8425.0</td>\n",
       "      <td>5265.0</td>\n",
       "      <td>5012.0</td>\n",
       "      <td>453.97601</td>\n",
       "      <td>...</td>\n",
       "      <td>3160.0</td>\n",
       "      <td>757.0</td>\n",
       "      <td>10773.0</td>\n",
       "      <td>5265.0</td>\n",
       "      <td>188.0</td>\n",
       "      <td>9204.0</td>\n",
       "      <td>1258.0</td>\n",
       "      <td>21024.764</td>\n",
       "      <td>1</td>\n",
       "      <td>13</td>\n",
       "    </tr>\n",
       "    <tr>\n",
       "      <th>3</th>\n",
       "      <td>126554</td>\n",
       "      <td>2001</td>\n",
       "      <td>A</td>\n",
       "      <td>AGILENT TECHNOLOGIES INC</td>\n",
       "      <td>3</td>\n",
       "      <td>4799.0</td>\n",
       "      <td>7986.0</td>\n",
       "      <td>5659.0</td>\n",
       "      <td>4353.0</td>\n",
       "      <td>461.00000</td>\n",
       "      <td>...</td>\n",
       "      <td>2327.0</td>\n",
       "      <td>174.0</td>\n",
       "      <td>8396.0</td>\n",
       "      <td>5659.0</td>\n",
       "      <td>115.0</td>\n",
       "      <td>8212.0</td>\n",
       "      <td>1349.0</td>\n",
       "      <td>10266.470</td>\n",
       "      <td>1</td>\n",
       "      <td>14</td>\n",
       "    </tr>\n",
       "    <tr>\n",
       "      <th>4</th>\n",
       "      <td>126554</td>\n",
       "      <td>2002</td>\n",
       "      <td>A</td>\n",
       "      <td>AGILENT TECHNOLOGIES INC</td>\n",
       "      <td>4</td>\n",
       "      <td>4880.0</td>\n",
       "      <td>8203.0</td>\n",
       "      <td>4627.0</td>\n",
       "      <td>2749.0</td>\n",
       "      <td>467.00000</td>\n",
       "      <td>...</td>\n",
       "      <td>3576.0</td>\n",
       "      <td>-1032.0</td>\n",
       "      <td>6010.0</td>\n",
       "      <td>4627.0</td>\n",
       "      <td>81.0</td>\n",
       "      <td>6408.0</td>\n",
       "      <td>1169.0</td>\n",
       "      <td>6421.250</td>\n",
       "      <td>1</td>\n",
       "      <td>15</td>\n",
       "    </tr>\n",
       "  </tbody>\n",
       "</table>\n",
       "<p>5 rows × 25 columns</p>\n",
       "</div>"
      ],
      "text/plain": [
       "    gvkey  year ticker                        cn  age  currentasset  \\\n",
       "0  126554  1998      A  AGILENT TECHNOLOGIES INC    0        3075.0   \n",
       "1  126554  1999      A  AGILENT TECHNOLOGIES INC    1        3538.0   \n",
       "2  126554  2000      A  AGILENT TECHNOLOGIES INC    2        5655.0   \n",
       "3  126554  2001      A  AGILENT TECHNOLOGIES INC    3        4799.0   \n",
       "4  126554  2002      A  AGILENT TECHNOLOGIES INC    4        4880.0   \n",
       "\n",
       "   totalasset  commonequity    cogs  commonoutstanding  ...  totalliabilities  \\\n",
       "0      4987.0        3022.0  3919.0            0.00000  ...            1965.0   \n",
       "1      5444.0        3382.0  3862.0          380.00000  ...            2062.0   \n",
       "2      8425.0        5265.0  5012.0          453.97601  ...            3160.0   \n",
       "3      7986.0        5659.0  4353.0          461.00000  ...            2327.0   \n",
       "4      8203.0        4627.0  2749.0          467.00000  ...            3576.0   \n",
       "\n",
       "   netincome    sales  stockholdersequity  advertisement_expense  \\\n",
       "0      257.0   7952.0              3022.0                   94.0   \n",
       "1      512.0   8331.0              3382.0                  130.0   \n",
       "2      757.0  10773.0              5265.0                  188.0   \n",
       "3      174.0   8396.0              5659.0                  115.0   \n",
       "4    -1032.0   6010.0              4627.0                   81.0   \n",
       "\n",
       "   operatingexpense  researchanddevelopment  marketvalue  pid  ptime  \n",
       "0            6917.0                   948.0        0.000    1     11  \n",
       "1            7064.0                   997.0        0.000    1     12  \n",
       "2            9204.0                  1258.0    21024.764    1     13  \n",
       "3            8212.0                  1349.0    10266.470    1     14  \n",
       "4            6408.0                  1169.0     6421.250    1     15  \n",
       "\n",
       "[5 rows x 25 columns]"
      ]
     },
     "execution_count": 4,
     "metadata": {},
     "output_type": "execute_result"
    }
   ],
   "source": [
    "data.head(5)"
   ]
  },
  {
   "cell_type": "code",
   "execution_count": 5,
   "metadata": {},
   "outputs": [],
   "source": [
    "# Define Dependent & Independent Variables"
   ]
  },
  {
   "cell_type": "code",
   "execution_count": 6,
   "metadata": {},
   "outputs": [
    {
     "data": {
      "text/plain": [
       "Index(['gvkey', 'year', 'ticker', 'cn', 'age', 'currentasset', 'totalasset',\n",
       "       'commonequity', 'cogs', 'commonoutstanding', 'longtermdebt', 'employ',\n",
       "       'inventories', 'currentliabilities', 'liabilitiesequity',\n",
       "       'totalliabilities', 'netincome', 'sales', 'stockholdersequity',\n",
       "       'advertisement_expense', 'operatingexpense', 'researchanddevelopment',\n",
       "       'marketvalue', 'pid', 'ptime'],\n",
       "      dtype='object')"
      ]
     },
     "execution_count": 6,
     "metadata": {},
     "output_type": "execute_result"
    }
   ],
   "source": [
    "data.columns"
   ]
  },
  {
   "cell_type": "code",
   "execution_count": 8,
   "metadata": {},
   "outputs": [],
   "source": [
    "analdata = data[[\"marketvalue\",\"cogs\",'employ','netincome','researchanddevelopment','advertisement_expense','totalasset','gvkey','year']]"
   ]
  },
  {
   "cell_type": "markdown",
   "metadata": {},
   "source": [
    "# Create Year and Firm Dummy Variables"
   ]
  },
  {
   "cell_type": "code",
   "execution_count": 10,
   "metadata": {},
   "outputs": [],
   "source": [
    "year = pd.Categorical(data['year'])\n",
    "firm = pd.Categorical(data['gvkey'])"
   ]
  },
  {
   "cell_type": "code",
   "execution_count": 11,
   "metadata": {},
   "outputs": [],
   "source": [
    "# Add dummy to the analdata"
   ]
  },
  {
   "cell_type": "code",
   "execution_count": 12,
   "metadata": {},
   "outputs": [],
   "source": [
    "analdata = analdata.set_index(['gvkey','year'])"
   ]
  },
  {
   "cell_type": "code",
   "execution_count": 13,
   "metadata": {},
   "outputs": [
    {
     "data": {
      "text/html": [
       "<div>\n",
       "<style scoped>\n",
       "    .dataframe tbody tr th:only-of-type {\n",
       "        vertical-align: middle;\n",
       "    }\n",
       "\n",
       "    .dataframe tbody tr th {\n",
       "        vertical-align: top;\n",
       "    }\n",
       "\n",
       "    .dataframe thead th {\n",
       "        text-align: right;\n",
       "    }\n",
       "</style>\n",
       "<table border=\"1\" class=\"dataframe\">\n",
       "  <thead>\n",
       "    <tr style=\"text-align: right;\">\n",
       "      <th></th>\n",
       "      <th></th>\n",
       "      <th>marketvalue</th>\n",
       "      <th>cogs</th>\n",
       "      <th>employ</th>\n",
       "      <th>netincome</th>\n",
       "      <th>researchanddevelopment</th>\n",
       "      <th>advertisement_expense</th>\n",
       "      <th>totalasset</th>\n",
       "    </tr>\n",
       "    <tr>\n",
       "      <th>gvkey</th>\n",
       "      <th>year</th>\n",
       "      <th></th>\n",
       "      <th></th>\n",
       "      <th></th>\n",
       "      <th></th>\n",
       "      <th></th>\n",
       "      <th></th>\n",
       "      <th></th>\n",
       "    </tr>\n",
       "  </thead>\n",
       "  <tbody>\n",
       "    <tr>\n",
       "      <th rowspan=\"5\" valign=\"top\">126554</th>\n",
       "      <th>1998</th>\n",
       "      <td>0.000</td>\n",
       "      <td>3919.0</td>\n",
       "      <td>0.000000</td>\n",
       "      <td>257.0</td>\n",
       "      <td>948.0</td>\n",
       "      <td>94.0</td>\n",
       "      <td>4987.0</td>\n",
       "    </tr>\n",
       "    <tr>\n",
       "      <th>1999</th>\n",
       "      <td>0.000</td>\n",
       "      <td>3862.0</td>\n",
       "      <td>36.400002</td>\n",
       "      <td>512.0</td>\n",
       "      <td>997.0</td>\n",
       "      <td>130.0</td>\n",
       "      <td>5444.0</td>\n",
       "    </tr>\n",
       "    <tr>\n",
       "      <th>2000</th>\n",
       "      <td>21024.764</td>\n",
       "      <td>5012.0</td>\n",
       "      <td>47.000000</td>\n",
       "      <td>757.0</td>\n",
       "      <td>1258.0</td>\n",
       "      <td>188.0</td>\n",
       "      <td>8425.0</td>\n",
       "    </tr>\n",
       "    <tr>\n",
       "      <th>2001</th>\n",
       "      <td>10266.470</td>\n",
       "      <td>4353.0</td>\n",
       "      <td>41.000000</td>\n",
       "      <td>174.0</td>\n",
       "      <td>1349.0</td>\n",
       "      <td>115.0</td>\n",
       "      <td>7986.0</td>\n",
       "    </tr>\n",
       "    <tr>\n",
       "      <th>2002</th>\n",
       "      <td>6421.250</td>\n",
       "      <td>2749.0</td>\n",
       "      <td>36.000000</td>\n",
       "      <td>-1032.0</td>\n",
       "      <td>1169.0</td>\n",
       "      <td>81.0</td>\n",
       "      <td>8203.0</td>\n",
       "    </tr>\n",
       "  </tbody>\n",
       "</table>\n",
       "</div>"
      ],
      "text/plain": [
       "             marketvalue    cogs     employ  netincome  \\\n",
       "gvkey  year                                              \n",
       "126554 1998        0.000  3919.0   0.000000      257.0   \n",
       "       1999        0.000  3862.0  36.400002      512.0   \n",
       "       2000    21024.764  5012.0  47.000000      757.0   \n",
       "       2001    10266.470  4353.0  41.000000      174.0   \n",
       "       2002     6421.250  2749.0  36.000000    -1032.0   \n",
       "\n",
       "             researchanddevelopment  advertisement_expense  totalasset  \n",
       "gvkey  year                                                             \n",
       "126554 1998                   948.0                   94.0      4987.0  \n",
       "       1999                   997.0                  130.0      5444.0  \n",
       "       2000                  1258.0                  188.0      8425.0  \n",
       "       2001                  1349.0                  115.0      7986.0  \n",
       "       2002                  1169.0                   81.0      8203.0  "
      ]
     },
     "execution_count": 13,
     "metadata": {},
     "output_type": "execute_result"
    }
   ],
   "source": [
    "analdata.head(5)"
   ]
  },
  {
   "cell_type": "code",
   "execution_count": 14,
   "metadata": {},
   "outputs": [],
   "source": [
    "dv = analdata[\"marketvalue\"]"
   ]
  },
  {
   "cell_type": "code",
   "execution_count": 15,
   "metadata": {},
   "outputs": [],
   "source": [
    "iv = analdata[[\"cogs\",'employ','netincome','researchanddevelopment','advertisement_expense','totalasset']]"
   ]
  },
  {
   "cell_type": "markdown",
   "metadata": {},
   "source": [
    "# Correlation Check"
   ]
  },
  {
   "cell_type": "code",
   "execution_count": 17,
   "metadata": {},
   "outputs": [
    {
     "data": {
      "text/html": [
       "<div>\n",
       "<style scoped>\n",
       "    .dataframe tbody tr th:only-of-type {\n",
       "        vertical-align: middle;\n",
       "    }\n",
       "\n",
       "    .dataframe tbody tr th {\n",
       "        vertical-align: top;\n",
       "    }\n",
       "\n",
       "    .dataframe thead th {\n",
       "        text-align: right;\n",
       "    }\n",
       "</style>\n",
       "<table border=\"1\" class=\"dataframe\">\n",
       "  <thead>\n",
       "    <tr style=\"text-align: right;\">\n",
       "      <th></th>\n",
       "      <th>marketvalue</th>\n",
       "      <th>cogs</th>\n",
       "      <th>employ</th>\n",
       "      <th>netincome</th>\n",
       "      <th>researchanddevelopment</th>\n",
       "      <th>advertisement_expense</th>\n",
       "      <th>totalasset</th>\n",
       "    </tr>\n",
       "  </thead>\n",
       "  <tbody>\n",
       "    <tr>\n",
       "      <th>marketvalue</th>\n",
       "      <td>1.000000</td>\n",
       "      <td>0.443326</td>\n",
       "      <td>0.400503</td>\n",
       "      <td>0.685736</td>\n",
       "      <td>0.622753</td>\n",
       "      <td>0.467460</td>\n",
       "      <td>0.392121</td>\n",
       "    </tr>\n",
       "    <tr>\n",
       "      <th>cogs</th>\n",
       "      <td>0.443326</td>\n",
       "      <td>1.000000</td>\n",
       "      <td>0.853080</td>\n",
       "      <td>0.364853</td>\n",
       "      <td>0.374472</td>\n",
       "      <td>0.569667</td>\n",
       "      <td>0.291798</td>\n",
       "    </tr>\n",
       "    <tr>\n",
       "      <th>employ</th>\n",
       "      <td>0.400503</td>\n",
       "      <td>0.853080</td>\n",
       "      <td>1.000000</td>\n",
       "      <td>0.329034</td>\n",
       "      <td>0.247207</td>\n",
       "      <td>0.447012</td>\n",
       "      <td>0.248023</td>\n",
       "    </tr>\n",
       "    <tr>\n",
       "      <th>netincome</th>\n",
       "      <td>0.685736</td>\n",
       "      <td>0.364853</td>\n",
       "      <td>0.329034</td>\n",
       "      <td>1.000000</td>\n",
       "      <td>0.395915</td>\n",
       "      <td>0.367995</td>\n",
       "      <td>0.444155</td>\n",
       "    </tr>\n",
       "    <tr>\n",
       "      <th>researchanddevelopment</th>\n",
       "      <td>0.622753</td>\n",
       "      <td>0.374472</td>\n",
       "      <td>0.247207</td>\n",
       "      <td>0.395915</td>\n",
       "      <td>1.000000</td>\n",
       "      <td>0.572667</td>\n",
       "      <td>0.084360</td>\n",
       "    </tr>\n",
       "    <tr>\n",
       "      <th>advertisement_expense</th>\n",
       "      <td>0.467460</td>\n",
       "      <td>0.569667</td>\n",
       "      <td>0.447012</td>\n",
       "      <td>0.367995</td>\n",
       "      <td>0.572667</td>\n",
       "      <td>1.000000</td>\n",
       "      <td>0.316115</td>\n",
       "    </tr>\n",
       "    <tr>\n",
       "      <th>totalasset</th>\n",
       "      <td>0.392121</td>\n",
       "      <td>0.291798</td>\n",
       "      <td>0.248023</td>\n",
       "      <td>0.444155</td>\n",
       "      <td>0.084360</td>\n",
       "      <td>0.316115</td>\n",
       "      <td>1.000000</td>\n",
       "    </tr>\n",
       "  </tbody>\n",
       "</table>\n",
       "</div>"
      ],
      "text/plain": [
       "                        marketvalue      cogs    employ  netincome  \\\n",
       "marketvalue                1.000000  0.443326  0.400503   0.685736   \n",
       "cogs                       0.443326  1.000000  0.853080   0.364853   \n",
       "employ                     0.400503  0.853080  1.000000   0.329034   \n",
       "netincome                  0.685736  0.364853  0.329034   1.000000   \n",
       "researchanddevelopment     0.622753  0.374472  0.247207   0.395915   \n",
       "advertisement_expense      0.467460  0.569667  0.447012   0.367995   \n",
       "totalasset                 0.392121  0.291798  0.248023   0.444155   \n",
       "\n",
       "                        researchanddevelopment  advertisement_expense  \\\n",
       "marketvalue                           0.622753               0.467460   \n",
       "cogs                                  0.374472               0.569667   \n",
       "employ                                0.247207               0.447012   \n",
       "netincome                             0.395915               0.367995   \n",
       "researchanddevelopment                1.000000               0.572667   \n",
       "advertisement_expense                 0.572667               1.000000   \n",
       "totalasset                            0.084360               0.316115   \n",
       "\n",
       "                        totalasset  \n",
       "marketvalue               0.392121  \n",
       "cogs                      0.291798  \n",
       "employ                    0.248023  \n",
       "netincome                 0.444155  \n",
       "researchanddevelopment    0.084360  \n",
       "advertisement_expense     0.316115  \n",
       "totalasset                1.000000  "
      ]
     },
     "execution_count": 17,
     "metadata": {},
     "output_type": "execute_result"
    }
   ],
   "source": [
    "analdata.corr(method='pearson')"
   ]
  },
  {
   "cell_type": "markdown",
   "metadata": {},
   "source": [
    "# Multicollinearity Check Function"
   ]
  },
  {
   "cell_type": "code",
   "execution_count": 19,
   "metadata": {},
   "outputs": [],
   "source": [
    "def Coll(data):\n",
    "    Collinearity = pd.DataFrame()\n",
    "    Collinearity['indvariables']= data.columns\n",
    "    Collinearity['VIF']= [variance_inflation_factor(data.values, i) for i in range(data.shape[1])]\n",
    "    return Collinearity"
   ]
  },
  {
   "cell_type": "code",
   "execution_count": 20,
   "metadata": {},
   "outputs": [
    {
     "data": {
      "text/html": [
       "<div>\n",
       "<style scoped>\n",
       "    .dataframe tbody tr th:only-of-type {\n",
       "        vertical-align: middle;\n",
       "    }\n",
       "\n",
       "    .dataframe tbody tr th {\n",
       "        vertical-align: top;\n",
       "    }\n",
       "\n",
       "    .dataframe thead th {\n",
       "        text-align: right;\n",
       "    }\n",
       "</style>\n",
       "<table border=\"1\" class=\"dataframe\">\n",
       "  <thead>\n",
       "    <tr style=\"text-align: right;\">\n",
       "      <th></th>\n",
       "      <th>indvariables</th>\n",
       "      <th>VIF</th>\n",
       "    </tr>\n",
       "  </thead>\n",
       "  <tbody>\n",
       "    <tr>\n",
       "      <th>0</th>\n",
       "      <td>cogs</td>\n",
       "      <td>5.071093</td>\n",
       "    </tr>\n",
       "    <tr>\n",
       "      <th>1</th>\n",
       "      <td>employ</td>\n",
       "      <td>4.199243</td>\n",
       "    </tr>\n",
       "    <tr>\n",
       "      <th>2</th>\n",
       "      <td>netincome</td>\n",
       "      <td>1.643974</td>\n",
       "    </tr>\n",
       "    <tr>\n",
       "      <th>3</th>\n",
       "      <td>researchanddevelopment</td>\n",
       "      <td>1.839094</td>\n",
       "    </tr>\n",
       "    <tr>\n",
       "      <th>4</th>\n",
       "      <td>advertisement_expense</td>\n",
       "      <td>2.177635</td>\n",
       "    </tr>\n",
       "    <tr>\n",
       "      <th>5</th>\n",
       "      <td>totalasset</td>\n",
       "      <td>1.434863</td>\n",
       "    </tr>\n",
       "  </tbody>\n",
       "</table>\n",
       "</div>"
      ],
      "text/plain": [
       "             indvariables       VIF\n",
       "0                    cogs  5.071093\n",
       "1                  employ  4.199243\n",
       "2               netincome  1.643974\n",
       "3  researchanddevelopment  1.839094\n",
       "4   advertisement_expense  2.177635\n",
       "5              totalasset  1.434863"
      ]
     },
     "execution_count": 20,
     "metadata": {},
     "output_type": "execute_result"
    }
   ],
   "source": [
    "Coll(iv)"
   ]
  },
  {
   "cell_type": "markdown",
   "metadata": {},
   "source": [
    "# FE and RE Model"
   ]
  },
  {
   "cell_type": "code",
   "execution_count": 40,
   "metadata": {},
   "outputs": [],
   "source": [
    "# !pip install linearmodels"
   ]
  },
  {
   "cell_type": "code",
   "execution_count": 41,
   "metadata": {},
   "outputs": [],
   "source": [
    "# !pip install statsmodels"
   ]
  },
  {
   "cell_type": "code",
   "execution_count": 24,
   "metadata": {},
   "outputs": [],
   "source": [
    "from linearmodels.panel import PanelOLS\n",
    "from linearmodels.panel import RandomEffects\n",
    "import statsmodels.api as sm"
   ]
  },
  {
   "cell_type": "code",
   "execution_count": 25,
   "metadata": {},
   "outputs": [],
   "source": [
    "# FE Model"
   ]
  },
  {
   "cell_type": "code",
   "execution_count": 28,
   "metadata": {},
   "outputs": [],
   "source": [
    "iv_vars = [\"cogs\",'employ','netincome','researchanddevelopment','advertisement_expense','totalasset']\n",
    "iv = sm.add_constant(analdata[iv_vars])"
   ]
  },
  {
   "cell_type": "code",
   "execution_count": 29,
   "metadata": {},
   "outputs": [
    {
     "name": "stdout",
     "output_type": "stream",
     "text": [
      "                          PanelOLS Estimation Summary                           \n",
      "================================================================================\n",
      "Dep. Variable:            marketvalue   R-squared:                        0.5899\n",
      "Estimator:                   PanelOLS   R-squared (Between):              0.5403\n",
      "No. Observations:                6637   R-squared (Within):               0.6306\n",
      "Date:                Mon, Sep 19 2022   R-squared (Overall):              0.5819\n",
      "Time:                        20:01:43   Log-likelihood                -7.696e+04\n",
      "Cov. Estimator:            Unadjusted                                           \n",
      "                                        F-statistic:                      1508.9\n",
      "Entities:                         306   P-value                           0.0000\n",
      "Avg Obs:                       21.690   Distribution:                  F(6,6294)\n",
      "Min Obs:                       2.0000                                           \n",
      "Max Obs:                       32.000   F-statistic (robust):             1508.9\n",
      "                                        P-value                           0.0000\n",
      "Time periods:                      32   Distribution:                  F(6,6294)\n",
      "Avg Obs:                       207.41                                           \n",
      "Min Obs:                       97.000                                           \n",
      "Max Obs:                       306.00                                           \n",
      "                                                                                \n",
      "                                   Parameter Estimates                                    \n",
      "==========================================================================================\n",
      "                        Parameter  Std. Err.     T-stat    P-value    Lower CI    Upper CI\n",
      "------------------------------------------------------------------------------------------\n",
      "const                     -2594.7     447.53    -5.7978     0.0000     -3472.0     -1717.4\n",
      "cogs                       0.5673     0.0438     12.960     0.0000      0.4815      0.6531\n",
      "employ                     2.4362     8.3454     0.2919     0.7704     -13.924      18.796\n",
      "netincome                  3.8908     0.1110     35.048     0.0000      3.6732      4.1084\n",
      "researchanddevelopment     20.884     0.4094     51.016     0.0000      20.081      21.686\n",
      "advertisement_expense      5.2342     1.0961     4.7753     0.0000      3.0854      7.3829\n",
      "totalasset                 0.0485     0.0030     16.259     0.0000      0.0426      0.0543\n",
      "==========================================================================================\n",
      "\n",
      "F-test for Poolability: 14.385\n",
      "P-value: 0.0000\n",
      "Distribution: F(336,6294)\n",
      "\n",
      "Included effects: Entity, Time\n"
     ]
    }
   ],
   "source": [
    "entitytimefixedmodel = PanelOLS(analdata.marketvalue, iv, entity_effects=True, drop_absorbed=True, time_effects=True)\n",
    "fe_res = entitytimefixedmodel.fit()\n",
    "print(fe_res)"
   ]
  },
  {
   "cell_type": "code",
   "execution_count": 30,
   "metadata": {},
   "outputs": [],
   "source": [
    "# RE Model"
   ]
  },
  {
   "cell_type": "code",
   "execution_count": 31,
   "metadata": {},
   "outputs": [
    {
     "name": "stdout",
     "output_type": "stream",
     "text": [
      "                        RandomEffects Estimation Summary                        \n",
      "================================================================================\n",
      "Dep. Variable:            marketvalue   R-squared:                        0.6227\n",
      "Estimator:              RandomEffects   R-squared (Between):              0.5963\n",
      "No. Observations:                6637   R-squared (Within):               0.6272\n",
      "Date:                Mon, Sep 19 2022   R-squared (Overall):              0.6082\n",
      "Time:                        20:01:48   Log-likelihood                -7.755e+04\n",
      "Cov. Estimator:            Unadjusted                                           \n",
      "                                        F-statistic:                      1824.1\n",
      "Entities:                         306   P-value                           0.0000\n",
      "Avg Obs:                       21.690   Distribution:                  F(6,6630)\n",
      "Min Obs:                       2.0000                                           \n",
      "Max Obs:                       32.000   F-statistic (robust):             1834.2\n",
      "                                        P-value                           0.0000\n",
      "Time periods:                      32   Distribution:                  F(6,6630)\n",
      "Avg Obs:                       207.41                                           \n",
      "Min Obs:                       97.000                                           \n",
      "Max Obs:                       306.00                                           \n",
      "                                                                                \n",
      "                                   Parameter Estimates                                    \n",
      "==========================================================================================\n",
      "                        Parameter  Std. Err.     T-stat    P-value    Lower CI    Upper CI\n",
      "------------------------------------------------------------------------------------------\n",
      "const                     -1177.6     904.61    -1.3018     0.1930     -2950.9      595.74\n",
      "cogs                       0.4276     0.0421     10.146     0.0000      0.3450      0.5102\n",
      "employ                     13.475     7.7934     1.7291     0.0838     -1.8022      28.753\n",
      "netincome                  4.3095     0.1156     37.264     0.0000      4.0828      4.5362\n",
      "researchanddevelopment     20.399     0.4033     50.578     0.0000      19.608      21.190\n",
      "advertisement_expense      2.9352     1.0879     2.6980     0.0070      0.8025      5.0679\n",
      "totalasset                 0.0508     0.0029     17.775     0.0000      0.0452      0.0564\n",
      "==========================================================================================\n"
     ]
    }
   ],
   "source": [
    "random_model = RandomEffects(analdata.marketvalue, iv)\n",
    "re_res = random_model.fit()\n",
    "print(re_res)"
   ]
  },
  {
   "cell_type": "markdown",
   "metadata": {},
   "source": [
    "# Hausman Test"
   ]
  },
  {
   "cell_type": "code",
   "execution_count": 32,
   "metadata": {},
   "outputs": [],
   "source": [
    "import numpy.linalg as la\n",
    "from scipy import stats\n",
    "import numpy as np"
   ]
  },
  {
   "cell_type": "code",
   "execution_count": 33,
   "metadata": {},
   "outputs": [],
   "source": [
    "def hausman(fe, re):\n",
    "    b = fe.params\n",
    "    B = re.params\n",
    "    v_b = fe.cov\n",
    "    v_B = re.cov\n",
    "    df = b[np.abs(b) < 1e8].size\n",
    "    chi2 = np.dot((b - B).T, la.inv(v_b - v_B).dot(b - B)) \n",
    "    pval = stats.chi2.sf(chi2, df)\n",
    "    return chi2, df, pval"
   ]
  },
  {
   "cell_type": "code",
   "execution_count": 34,
   "metadata": {},
   "outputs": [
    {
     "name": "stdout",
     "output_type": "stream",
     "text": [
      "chi-Squared:95.20102522415266\n",
      "degrees of freedom:7\n",
      "p-Value: 1.0537386319928037e-17\n"
     ]
    }
   ],
   "source": [
    "hausman_results = hausman(fe_res, re_res) \n",
    "print(\"chi-Squared:\" + str(hausman_results[0]))\n",
    "print('degrees of freedom:' + str(hausman_results[1]))\n",
    "print('p-Value: ' + str(hausman_results[2]))\n",
    "\n",
    "# P-value is very small 1.0537386319928037e-17 is approximately 0.00000004362.\n",
    "# This means that the null hypothesis can be rejcted. \n",
    "# The Null Hypothesis = There are no correlation between unique errors and the regressors\n",
    "# The FE-model is a more efficient estimator than the RE-model because we have endogeneity in our model. "
   ]
  },
  {
   "cell_type": "markdown",
   "metadata": {},
   "source": [
    "# Breusch-Godfrey Test"
   ]
  },
  {
   "cell_type": "code",
   "execution_count": 50,
   "metadata": {},
   "outputs": [],
   "source": [
    "# The Null Hypothesis = There is no correlation among the residuals."
   ]
  },
  {
   "cell_type": "code",
   "execution_count": 51,
   "metadata": {},
   "outputs": [],
   "source": [
    "iv_vars = [\"cogs\",'employ','netincome','researchanddevelopment','advertisement_expense','totalasset']\n",
    "iv = sm.add_constant(analdata[iv_vars])"
   ]
  },
  {
   "cell_type": "code",
   "execution_count": 54,
   "metadata": {},
   "outputs": [
    {
     "name": "stdout",
     "output_type": "stream",
     "text": [
      "                            OLS Regression Results                            \n",
      "==============================================================================\n",
      "Dep. Variable:            marketvalue   R-squared:                       0.651\n",
      "Model:                            OLS   Adj. R-squared:                  0.651\n",
      "Method:                 Least Squares   F-statistic:                     2065.\n",
      "Date:                Mon, 19 Sep 2022   Prob (F-statistic):               0.00\n",
      "Time:                        20:23:30   Log-Likelihood:                -78850.\n",
      "No. Observations:                6637   AIC:                         1.577e+05\n",
      "Df Residuals:                    6630   BIC:                         1.578e+05\n",
      "Df Model:                           6                                         \n",
      "Covariance Type:            nonrobust                                         \n",
      "==========================================================================================\n",
      "                             coef    std err          t      P>|t|      [0.025      0.975]\n",
      "------------------------------------------------------------------------------------------\n",
      "const                   1187.9849    470.716      2.524      0.012     265.231    2110.739\n",
      "cogs                      -0.0892      0.036     -2.451      0.014      -0.161      -0.018\n",
      "employ                    72.5387      6.159     11.778      0.000      60.465      84.612\n",
      "netincome                  6.0426      0.130     46.505      0.000       5.788       6.297\n",
      "researchanddevelopment    17.2548      0.372     46.332      0.000      16.525      17.985\n",
      "advertisement_expense     -3.7025      0.978     -3.784      0.000      -5.620      -1.785\n",
      "totalasset                 0.0433      0.002     17.810      0.000       0.038       0.048\n",
      "==============================================================================\n",
      "Omnibus:                     4261.204   Durbin-Watson:                   0.744\n",
      "Prob(Omnibus):                  0.000   Jarque-Bera (JB):          1539019.681\n",
      "Skew:                           1.865   Prob(JB):                         0.00\n",
      "Kurtosis:                      77.507   Cond. No.                     2.34e+05\n",
      "==============================================================================\n",
      "\n",
      "Notes:\n",
      "[1] Standard Errors assume that the covariance matrix of the errors is correctly specified.\n",
      "[2] The condition number is large, 2.34e+05. This might indicate that there are\n",
      "strong multicollinearity or other numerical problems.\n"
     ]
    }
   ],
   "source": [
    "OLS = sm.OLS(analdata.marketvalue, iv).fit()\n",
    "print(OLS.summary())"
   ]
  },
  {
   "cell_type": "code",
   "execution_count": 57,
   "metadata": {},
   "outputs": [
    {
     "name": "stdout",
     "output_type": "stream",
     "text": [
      "(2951.3986604969905, 0.0, 530.1240512118089, 0.0)\n"
     ]
    }
   ],
   "source": [
    "import statsmodels.stats.diagnostic as dg\n",
    "#perform Breusch-Godfrey test at order p = 5\n",
    "print(dg.acorr_breusch_godfrey(OLS, nlags=10))"
   ]
  },
  {
   "cell_type": "code",
   "execution_count": 58,
   "metadata": {},
   "outputs": [],
   "source": [
    "# Test statistic = 2951.3986604969905\n",
    "# P-value = 0.0\n",
    "# Conclusion: we cannot reject the null hypothesis. There is no serial correlation among residuals"
   ]
  },
  {
   "cell_type": "markdown",
   "metadata": {},
   "source": [
    "# Robust Standard Errors"
   ]
  },
  {
   "cell_type": "code",
   "execution_count": 60,
   "metadata": {},
   "outputs": [],
   "source": [
    "# heteroskedasticity corrected standard errors"
   ]
  },
  {
   "cell_type": "code",
   "execution_count": null,
   "metadata": {},
   "outputs": [],
   "source": [
    "# Eicker-Huber-White robust standard errors, aka “HC2” "
   ]
  },
  {
   "cell_type": "code",
   "execution_count": 61,
   "metadata": {},
   "outputs": [
    {
     "name": "stdout",
     "output_type": "stream",
     "text": [
      "                            OLS Regression Results                            \n",
      "==============================================================================\n",
      "Dep. Variable:            marketvalue   R-squared:                       0.651\n",
      "Model:                            OLS   Adj. R-squared:                  0.651\n",
      "Method:                 Least Squares   F-statistic:                     171.8\n",
      "Date:                Mon, 19 Sep 2022   Prob (F-statistic):          8.83e-204\n",
      "Time:                        20:30:27   Log-Likelihood:                -78850.\n",
      "No. Observations:                6637   AIC:                         1.577e+05\n",
      "Df Residuals:                    6630   BIC:                         1.578e+05\n",
      "Df Model:                           6                                         \n",
      "Covariance Type:                  HC2                                         \n",
      "==========================================================================================\n",
      "                             coef    std err          z      P>|z|      [0.025      0.975]\n",
      "------------------------------------------------------------------------------------------\n",
      "const                   1187.9849    530.220      2.241      0.025     148.772    2227.197\n",
      "cogs                      -0.0892      0.124     -0.719      0.472      -0.332       0.154\n",
      "employ                    72.5387     20.756      3.495      0.000      31.857     113.220\n",
      "netincome                  6.0426      1.523      3.967      0.000       3.057       9.028\n",
      "researchanddevelopment    17.2548      1.922      8.975      0.000      13.487      21.023\n",
      "advertisement_expense     -3.7025      3.651     -1.014      0.311     -10.858       3.453\n",
      "totalasset                 0.0433      0.014      3.155      0.002       0.016       0.070\n",
      "==============================================================================\n",
      "Omnibus:                     4261.204   Durbin-Watson:                   0.744\n",
      "Prob(Omnibus):                  0.000   Jarque-Bera (JB):          1539019.681\n",
      "Skew:                           1.865   Prob(JB):                         0.00\n",
      "Kurtosis:                      77.507   Cond. No.                     2.34e+05\n",
      "==============================================================================\n",
      "\n",
      "Notes:\n",
      "[1] Standard Errors are heteroscedasticity robust (HC2)\n",
      "[2] The condition number is large, 2.34e+05. This might indicate that there are\n",
      "strong multicollinearity or other numerical problems.\n"
     ]
    }
   ],
   "source": [
    "iv_vars = [\"cogs\",'employ','netincome','researchanddevelopment','advertisement_expense','totalasset']\n",
    "iv = sm.add_constant(analdata[iv_vars])\n",
    "OLS = sm.OLS(analdata.marketvalue, iv).fit(cov_type=\"HC2\")\n",
    "print(OLS.summary())"
   ]
  },
  {
   "cell_type": "code",
   "execution_count": null,
   "metadata": {},
   "outputs": [],
   "source": [
    "# Not used the robust"
   ]
  },
  {
   "cell_type": "code",
   "execution_count": 69,
   "metadata": {},
   "outputs": [
    {
     "name": "stdout",
     "output_type": "stream",
     "text": [
      "                            OLS Regression Results                            \n",
      "==============================================================================\n",
      "Dep. Variable:            marketvalue   R-squared:                       0.651\n",
      "Model:                            OLS   Adj. R-squared:                  0.651\n",
      "Method:                 Least Squares   F-statistic:                     2065.\n",
      "Date:                Mon, 19 Sep 2022   Prob (F-statistic):               0.00\n",
      "Time:                        20:34:04   Log-Likelihood:                -78850.\n",
      "No. Observations:                6637   AIC:                         1.577e+05\n",
      "Df Residuals:                    6630   BIC:                         1.578e+05\n",
      "Df Model:                           6                                         \n",
      "Covariance Type:            nonrobust                                         \n",
      "==========================================================================================\n",
      "                             coef    std err          t      P>|t|      [0.025      0.975]\n",
      "------------------------------------------------------------------------------------------\n",
      "const                   1187.9849    470.716      2.524      0.012     265.231    2110.739\n",
      "cogs                      -0.0892      0.036     -2.451      0.014      -0.161      -0.018\n",
      "employ                    72.5387      6.159     11.778      0.000      60.465      84.612\n",
      "netincome                  6.0426      0.130     46.505      0.000       5.788       6.297\n",
      "researchanddevelopment    17.2548      0.372     46.332      0.000      16.525      17.985\n",
      "advertisement_expense     -3.7025      0.978     -3.784      0.000      -5.620      -1.785\n",
      "totalasset                 0.0433      0.002     17.810      0.000       0.038       0.048\n",
      "==============================================================================\n",
      "Omnibus:                     4261.204   Durbin-Watson:                   0.744\n",
      "Prob(Omnibus):                  0.000   Jarque-Bera (JB):          1539019.681\n",
      "Skew:                           1.865   Prob(JB):                         0.00\n",
      "Kurtosis:                      77.507   Cond. No.                     2.34e+05\n",
      "==============================================================================\n",
      "\n",
      "Notes:\n",
      "[1] Standard Errors assume that the covariance matrix of the errors is correctly specified.\n",
      "[2] The condition number is large, 2.34e+05. This might indicate that there are\n",
      "strong multicollinearity or other numerical problems.\n"
     ]
    }
   ],
   "source": [
    "iv_vars = [\"cogs\",'employ','netincome','researchanddevelopment','advertisement_expense','totalasset']\n",
    "iv = sm.add_constant(analdata[iv_vars])\n",
    "OLS = sm.OLS(analdata.marketvalue, iv).fit()\n",
    "print(OLS.summary())"
   ]
  },
  {
   "cell_type": "code",
   "execution_count": null,
   "metadata": {},
   "outputs": [],
   "source": [
    "# The FE model"
   ]
  },
  {
   "cell_type": "code",
   "execution_count": 64,
   "metadata": {},
   "outputs": [],
   "source": [
    "# “robust” - Control for heteroskedasticity using White’s estimator"
   ]
  },
  {
   "cell_type": "code",
   "execution_count": 65,
   "metadata": {},
   "outputs": [
    {
     "name": "stdout",
     "output_type": "stream",
     "text": [
      "                          PanelOLS Estimation Summary                           \n",
      "================================================================================\n",
      "Dep. Variable:            marketvalue   R-squared:                        0.5899\n",
      "Estimator:                   PanelOLS   R-squared (Between):              0.5403\n",
      "No. Observations:                6637   R-squared (Within):               0.6306\n",
      "Date:                Mon, Sep 19 2022   R-squared (Overall):              0.5819\n",
      "Time:                        20:32:44   Log-likelihood                -7.696e+04\n",
      "Cov. Estimator:                Robust                                           \n",
      "                                        F-statistic:                      1508.9\n",
      "Entities:                         306   P-value                           0.0000\n",
      "Avg Obs:                       21.690   Distribution:                  F(6,6294)\n",
      "Min Obs:                       2.0000                                           \n",
      "Max Obs:                       32.000   F-statistic (robust):             259.91\n",
      "                                        P-value                           0.0000\n",
      "Time periods:                      32   Distribution:                  F(6,6294)\n",
      "Avg Obs:                       207.41                                           \n",
      "Min Obs:                       97.000                                           \n",
      "Max Obs:                       306.00                                           \n",
      "                                                                                \n",
      "                                   Parameter Estimates                                    \n",
      "==========================================================================================\n",
      "                        Parameter  Std. Err.     T-stat    P-value    Lower CI    Upper CI\n",
      "------------------------------------------------------------------------------------------\n",
      "const                     -2594.7     810.79    -3.2002     0.0014     -4184.1     -1005.3\n",
      "cogs                       0.5673     0.1492     3.8011     0.0001      0.2747      0.8598\n",
      "employ                     2.4362     22.103     0.1102     0.9122     -40.892      45.765\n",
      "netincome                  3.8908     0.9611     4.0484     0.0001      2.0068      5.7748\n",
      "researchanddevelopment     20.884     1.7621     11.852     0.0000      17.430      24.338\n",
      "advertisement_expense      5.2342     3.2932     1.5894     0.1120     -1.2217      11.690\n",
      "totalasset                 0.0485     0.0095     5.1114     0.0000      0.0299      0.0671\n",
      "==========================================================================================\n",
      "\n",
      "F-test for Poolability: 14.385\n",
      "P-value: 0.0000\n",
      "Distribution: F(336,6294)\n",
      "\n",
      "Included effects: Entity, Time\n"
     ]
    }
   ],
   "source": [
    "iv_vars = [\"cogs\",'employ','netincome','researchanddevelopment','advertisement_expense','totalasset']\n",
    "iv = sm.add_constant(analdata[iv_vars])\n",
    "entitytimefixedmodel = PanelOLS(analdata.marketvalue, iv, entity_effects=True, drop_absorbed=True, time_effects=True)\n",
    "fe_res = entitytimefixedmodel.fit(cov_type=\"robust\")\n",
    "print(fe_res)"
   ]
  },
  {
   "cell_type": "code",
   "execution_count": 67,
   "metadata": {},
   "outputs": [],
   "source": [
    "# Not used the \"robust\""
   ]
  },
  {
   "cell_type": "code",
   "execution_count": 68,
   "metadata": {},
   "outputs": [
    {
     "name": "stdout",
     "output_type": "stream",
     "text": [
      "                          PanelOLS Estimation Summary                           \n",
      "================================================================================\n",
      "Dep. Variable:            marketvalue   R-squared:                        0.5899\n",
      "Estimator:                   PanelOLS   R-squared (Between):              0.5403\n",
      "No. Observations:                6637   R-squared (Within):               0.6306\n",
      "Date:                Mon, Sep 19 2022   R-squared (Overall):              0.5819\n",
      "Time:                        20:33:33   Log-likelihood                -7.696e+04\n",
      "Cov. Estimator:            Unadjusted                                           \n",
      "                                        F-statistic:                      1508.9\n",
      "Entities:                         306   P-value                           0.0000\n",
      "Avg Obs:                       21.690   Distribution:                  F(6,6294)\n",
      "Min Obs:                       2.0000                                           \n",
      "Max Obs:                       32.000   F-statistic (robust):             1508.9\n",
      "                                        P-value                           0.0000\n",
      "Time periods:                      32   Distribution:                  F(6,6294)\n",
      "Avg Obs:                       207.41                                           \n",
      "Min Obs:                       97.000                                           \n",
      "Max Obs:                       306.00                                           \n",
      "                                                                                \n",
      "                                   Parameter Estimates                                    \n",
      "==========================================================================================\n",
      "                        Parameter  Std. Err.     T-stat    P-value    Lower CI    Upper CI\n",
      "------------------------------------------------------------------------------------------\n",
      "const                     -2594.7     447.53    -5.7978     0.0000     -3472.0     -1717.4\n",
      "cogs                       0.5673     0.0438     12.960     0.0000      0.4815      0.6531\n",
      "employ                     2.4362     8.3454     0.2919     0.7704     -13.924      18.796\n",
      "netincome                  3.8908     0.1110     35.048     0.0000      3.6732      4.1084\n",
      "researchanddevelopment     20.884     0.4094     51.016     0.0000      20.081      21.686\n",
      "advertisement_expense      5.2342     1.0961     4.7753     0.0000      3.0854      7.3829\n",
      "totalasset                 0.0485     0.0030     16.259     0.0000      0.0426      0.0543\n",
      "==========================================================================================\n",
      "\n",
      "F-test for Poolability: 14.385\n",
      "P-value: 0.0000\n",
      "Distribution: F(336,6294)\n",
      "\n",
      "Included effects: Entity, Time\n"
     ]
    }
   ],
   "source": [
    "iv_vars = [\"cogs\",'employ','netincome','researchanddevelopment','advertisement_expense','totalasset']\n",
    "iv = sm.add_constant(analdata[iv_vars])\n",
    "entitytimefixedmodel = PanelOLS(analdata.marketvalue, iv, entity_effects=True, drop_absorbed=True, time_effects=True)\n",
    "fe_res = entitytimefixedmodel.fit()\n",
    "print(fe_res)"
   ]
  },
  {
   "cell_type": "code",
   "execution_count": 73,
   "metadata": {},
   "outputs": [],
   "source": [
    "# Clustered standard errors Often, we know something about the structure of likely errors, namely that they occur in groups. "
   ]
  },
  {
   "cell_type": "code",
   "execution_count": 71,
   "metadata": {},
   "outputs": [
    {
     "name": "stdout",
     "output_type": "stream",
     "text": [
      "                            OLS Regression Results                            \n",
      "==============================================================================\n",
      "Dep. Variable:            marketvalue   R-squared:                       0.651\n",
      "Model:                            OLS   Adj. R-squared:                  0.651\n",
      "Method:                 Least Squares   F-statistic:                     35.94\n",
      "Date:                Mon, 19 Sep 2022   Prob (F-statistic):           7.97e-33\n",
      "Time:                        20:36:04   Log-Likelihood:                -78850.\n",
      "No. Observations:                6637   AIC:                         1.577e+05\n",
      "Df Residuals:                    6630   BIC:                         1.578e+05\n",
      "Df Model:                           6                                         \n",
      "Covariance Type:              cluster                                         \n",
      "==========================================================================================\n",
      "                             coef    std err          z      P>|z|      [0.025      0.975]\n",
      "------------------------------------------------------------------------------------------\n",
      "const                   1187.9849   1113.367      1.067      0.286    -994.174    3370.144\n",
      "cogs                      -0.0892      0.314     -0.284      0.776      -0.705       0.526\n",
      "employ                    72.5387     48.330      1.501      0.133     -22.187     167.265\n",
      "netincome                  6.0426      1.754      3.445      0.001       2.605       9.480\n",
      "researchanddevelopment    17.2548      3.156      5.467      0.000      11.069      23.440\n",
      "advertisement_expense     -3.7025      8.924     -0.415      0.678     -21.193      13.788\n",
      "totalasset                 0.0433      0.017      2.535      0.011       0.010       0.077\n",
      "==============================================================================\n",
      "Omnibus:                     4261.204   Durbin-Watson:                   0.744\n",
      "Prob(Omnibus):                  0.000   Jarque-Bera (JB):          1539019.681\n",
      "Skew:                           1.865   Prob(JB):                         0.00\n",
      "Kurtosis:                      77.507   Cond. No.                     2.34e+05\n",
      "==============================================================================\n",
      "\n",
      "Notes:\n",
      "[1] Standard Errors are robust to cluster correlation (cluster)\n",
      "[2] The condition number is large, 2.34e+05. This might indicate that there are\n",
      "strong multicollinearity or other numerical problems.\n"
     ]
    }
   ],
   "source": [
    "# Used firm cluster errors\n",
    "iv_vars = [\"cogs\",'employ','netincome','researchanddevelopment','advertisement_expense','totalasset']\n",
    "iv = sm.add_constant(analdata[iv_vars])\n",
    "OLS = sm.OLS(analdata.marketvalue, iv).fit(cov_type=\"cluster\", cov_kwds={\"groups\":firm})\n",
    "print(OLS.summary())"
   ]
  },
  {
   "cell_type": "code",
   "execution_count": 72,
   "metadata": {},
   "outputs": [
    {
     "name": "stdout",
     "output_type": "stream",
     "text": [
      "                            OLS Regression Results                            \n",
      "==============================================================================\n",
      "Dep. Variable:            marketvalue   R-squared:                       0.651\n",
      "Model:                            OLS   Adj. R-squared:                  0.651\n",
      "Method:                 Least Squares   F-statistic:                     2065.\n",
      "Date:                Mon, 19 Sep 2022   Prob (F-statistic):               0.00\n",
      "Time:                        20:36:20   Log-Likelihood:                -78850.\n",
      "No. Observations:                6637   AIC:                         1.577e+05\n",
      "Df Residuals:                    6630   BIC:                         1.578e+05\n",
      "Df Model:                           6                                         \n",
      "Covariance Type:            nonrobust                                         \n",
      "==========================================================================================\n",
      "                             coef    std err          t      P>|t|      [0.025      0.975]\n",
      "------------------------------------------------------------------------------------------\n",
      "const                   1187.9849    470.716      2.524      0.012     265.231    2110.739\n",
      "cogs                      -0.0892      0.036     -2.451      0.014      -0.161      -0.018\n",
      "employ                    72.5387      6.159     11.778      0.000      60.465      84.612\n",
      "netincome                  6.0426      0.130     46.505      0.000       5.788       6.297\n",
      "researchanddevelopment    17.2548      0.372     46.332      0.000      16.525      17.985\n",
      "advertisement_expense     -3.7025      0.978     -3.784      0.000      -5.620      -1.785\n",
      "totalasset                 0.0433      0.002     17.810      0.000       0.038       0.048\n",
      "==============================================================================\n",
      "Omnibus:                     4261.204   Durbin-Watson:                   0.744\n",
      "Prob(Omnibus):                  0.000   Jarque-Bera (JB):          1539019.681\n",
      "Skew:                           1.865   Prob(JB):                         0.00\n",
      "Kurtosis:                      77.507   Cond. No.                     2.34e+05\n",
      "==============================================================================\n",
      "\n",
      "Notes:\n",
      "[1] Standard Errors assume that the covariance matrix of the errors is correctly specified.\n",
      "[2] The condition number is large, 2.34e+05. This might indicate that there are\n",
      "strong multicollinearity or other numerical problems.\n"
     ]
    }
   ],
   "source": [
    "# Not used the cluster error\n",
    "iv_vars = [\"cogs\",'employ','netincome','researchanddevelopment','advertisement_expense','totalasset']\n",
    "iv = sm.add_constant(analdata[iv_vars])\n",
    "OLS = sm.OLS(analdata.marketvalue, iv).fit()\n",
    "print(OLS.summary())"
   ]
  },
  {
   "cell_type": "code",
   "execution_count": 74,
   "metadata": {},
   "outputs": [],
   "source": [
    "# Used firm cluster errors for the FE-model"
   ]
  },
  {
   "cell_type": "code",
   "execution_count": 76,
   "metadata": {},
   "outputs": [
    {
     "name": "stdout",
     "output_type": "stream",
     "text": [
      "                          PanelOLS Estimation Summary                           \n",
      "================================================================================\n",
      "Dep. Variable:            marketvalue   R-squared:                        0.5899\n",
      "Estimator:                   PanelOLS   R-squared (Between):              0.5403\n",
      "No. Observations:                6637   R-squared (Within):               0.6306\n",
      "Date:                Mon, Sep 19 2022   R-squared (Overall):              0.5819\n",
      "Time:                        20:37:49   Log-likelihood                -7.696e+04\n",
      "Cov. Estimator:             Clustered                                           \n",
      "                                        F-statistic:                      1508.9\n",
      "Entities:                         306   P-value                           0.0000\n",
      "Avg Obs:                       21.690   Distribution:                  F(6,6294)\n",
      "Min Obs:                       2.0000                                           \n",
      "Max Obs:                       32.000   F-statistic (robust):             71.425\n",
      "                                        P-value                           0.0000\n",
      "Time periods:                      32   Distribution:                  F(6,6294)\n",
      "Avg Obs:                       207.41                                           \n",
      "Min Obs:                       97.000                                           \n",
      "Max Obs:                       306.00                                           \n",
      "                                                                                \n",
      "                                   Parameter Estimates                                    \n",
      "==========================================================================================\n",
      "                        Parameter  Std. Err.     T-stat    P-value    Lower CI    Upper CI\n",
      "------------------------------------------------------------------------------------------\n",
      "const                     -2594.7     1958.1    -1.3251     0.1852     -6433.3      1243.9\n",
      "cogs                       0.5673     0.3991     1.4214     0.1552     -0.2151      1.3496\n",
      "employ                     2.4362     57.515     0.0424     0.9662     -110.31      115.19\n",
      "netincome                  3.8908     1.3967     2.7857     0.0054      1.1527      6.6288\n",
      "researchanddevelopment     20.884     3.1440     6.6425     0.0000      14.721      27.047\n",
      "advertisement_expense      5.2342     6.8304     0.7663     0.4435     -8.1557      18.624\n",
      "totalasset                 0.0485     0.0175     2.7777     0.0055      0.0143      0.0827\n",
      "==========================================================================================\n",
      "\n",
      "F-test for Poolability: 14.385\n",
      "P-value: 0.0000\n",
      "Distribution: F(336,6294)\n",
      "\n",
      "Included effects: Entity, Time\n"
     ]
    }
   ],
   "source": [
    "# Firm cluster error\n",
    "iv_vars = [\"cogs\",'employ','netincome','researchanddevelopment','advertisement_expense','totalasset']\n",
    "iv = sm.add_constant(analdata[iv_vars])\n",
    "entitytimefixedmodel = PanelOLS(analdata.marketvalue, iv, entity_effects=True, drop_absorbed=True, time_effects=True)\n",
    "fe_res = entitytimefixedmodel.fit(cov_type=\"clustered\", cluster_entity=True)\n",
    "print(fe_res)"
   ]
  },
  {
   "cell_type": "code",
   "execution_count": 77,
   "metadata": {},
   "outputs": [
    {
     "name": "stdout",
     "output_type": "stream",
     "text": [
      "                          PanelOLS Estimation Summary                           \n",
      "================================================================================\n",
      "Dep. Variable:            marketvalue   R-squared:                        0.5899\n",
      "Estimator:                   PanelOLS   R-squared (Between):              0.5403\n",
      "No. Observations:                6637   R-squared (Within):               0.6306\n",
      "Date:                Mon, Sep 19 2022   R-squared (Overall):              0.5819\n",
      "Time:                        20:38:03   Log-likelihood                -7.696e+04\n",
      "Cov. Estimator:            Unadjusted                                           \n",
      "                                        F-statistic:                      1508.9\n",
      "Entities:                         306   P-value                           0.0000\n",
      "Avg Obs:                       21.690   Distribution:                  F(6,6294)\n",
      "Min Obs:                       2.0000                                           \n",
      "Max Obs:                       32.000   F-statistic (robust):             1508.9\n",
      "                                        P-value                           0.0000\n",
      "Time periods:                      32   Distribution:                  F(6,6294)\n",
      "Avg Obs:                       207.41                                           \n",
      "Min Obs:                       97.000                                           \n",
      "Max Obs:                       306.00                                           \n",
      "                                                                                \n",
      "                                   Parameter Estimates                                    \n",
      "==========================================================================================\n",
      "                        Parameter  Std. Err.     T-stat    P-value    Lower CI    Upper CI\n",
      "------------------------------------------------------------------------------------------\n",
      "const                     -2594.7     447.53    -5.7978     0.0000     -3472.0     -1717.4\n",
      "cogs                       0.5673     0.0438     12.960     0.0000      0.4815      0.6531\n",
      "employ                     2.4362     8.3454     0.2919     0.7704     -13.924      18.796\n",
      "netincome                  3.8908     0.1110     35.048     0.0000      3.6732      4.1084\n",
      "researchanddevelopment     20.884     0.4094     51.016     0.0000      20.081      21.686\n",
      "advertisement_expense      5.2342     1.0961     4.7753     0.0000      3.0854      7.3829\n",
      "totalasset                 0.0485     0.0030     16.259     0.0000      0.0426      0.0543\n",
      "==========================================================================================\n",
      "\n",
      "F-test for Poolability: 14.385\n",
      "P-value: 0.0000\n",
      "Distribution: F(336,6294)\n",
      "\n",
      "Included effects: Entity, Time\n"
     ]
    }
   ],
   "source": [
    "# Not used the cluster error\n",
    "iv_vars = [\"cogs\",'employ','netincome','researchanddevelopment','advertisement_expense','totalasset']\n",
    "iv = sm.add_constant(analdata[iv_vars])\n",
    "entitytimefixedmodel = PanelOLS(analdata.marketvalue, iv, entity_effects=True, drop_absorbed=True, time_effects=True)\n",
    "fe_res = entitytimefixedmodel.fit()\n",
    "print(fe_res)"
   ]
  },
  {
   "cell_type": "code",
   "execution_count": null,
   "metadata": {},
   "outputs": [],
   "source": []
  },
  {
   "cell_type": "code",
   "execution_count": null,
   "metadata": {},
   "outputs": [],
   "source": []
  },
  {
   "cell_type": "code",
   "execution_count": null,
   "metadata": {},
   "outputs": [],
   "source": []
  }
 ],
 "metadata": {
  "kernelspec": {
   "display_name": "Python 3 (ipykernel)",
   "language": "python",
   "name": "python3"
  },
  "language_info": {
   "codemirror_mode": {
    "name": "ipython",
    "version": 3
   },
   "file_extension": ".py",
   "mimetype": "text/x-python",
   "name": "python",
   "nbconvert_exporter": "python",
   "pygments_lexer": "ipython3",
   "version": "3.9.12"
  }
 },
 "nbformat": 4,
 "nbformat_minor": 4
}
